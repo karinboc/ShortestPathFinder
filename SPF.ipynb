{
  "nbformat": 4,
  "nbformat_minor": 0,
  "metadata": {
    "colab": {
      "name": "Razor_labs.ipynb",
      "provenance": [],
      "collapsed_sections": [],
      "include_colab_link": true
    },
    "kernelspec": {
      "name": "python3",
      "display_name": "Python 3"
    },
    "language_info": {
      "name": "python"
    }
  },
  "cells": [
    {
      "cell_type": "markdown",
      "metadata": {
        "id": "view-in-github",
        "colab_type": "text"
      },
      "source": [
        "<a href=\"https://colab.research.google.com/github/karinboc/ShortestPathFinder/blob/main/Razor_labs.ipynb\" target=\"_parent\"><img src=\"https://colab.research.google.com/assets/colab-badge.svg\" alt=\"Open In Colab\"/></a>"
      ]
    },
    {
      "cell_type": "markdown",
      "metadata": {
        "id": "YTazRKtUXefr"
      },
      "source": [
        "## ShortestPathFinder"
      ]
    },
    {
      "cell_type": "code",
      "metadata": {
        "id": "lYVxYAea_9td"
      },
      "source": [
        "import networkx as nx\n",
        "from matplotlib import pyplot as plt\n",
        "\n",
        "\n"
      ],
      "execution_count": null,
      "outputs": []
    },
    {
      "cell_type": "code",
      "metadata": {
        "id": "jsTnouWOHr_9"
      },
      "source": [
        "class ShortestPathFinder(object):\n",
        "  def __init__(self, grid_size, starting_pos, exit_pos, obstacles_pos):\n",
        "    self.grid_size = grid_size if type(grid_size) is tuple else (grid_size,grid_size)\n",
        "    self.starting_pos = starting_pos\n",
        "    self.exit_pos = exit_pos\n",
        "    self.obstacles_pos = obstacles_pos\n",
        "    self.G = nx.grid_2d_graph(grid_size[0],grid_size[1])\n",
        "    self.consider_obstacles()\n",
        "    self.shortest_path = [] \n",
        "    \n",
        "\n",
        "  def draw_grid(self):\n",
        "    plt.figure(figsize=(4,4))\n",
        "    pos = {(x,y):(y,-x) for x,y in self.G.nodes()}\n",
        "    nx.draw(self.G, pos=pos, \n",
        "        node_color='lightblue', \n",
        "        with_labels=True,\n",
        "        node_size=600)\n",
        "    \n",
        "  def consider_obstacles(self):\n",
        "    [self.G.remove_node(ob) for ob in self.obstacles_pos]\n",
        "\n",
        "  def get_shortest_path(self):\n",
        "    return self.shortest_path \n",
        "\n",
        "  def get_shortest_path_len(self):\n",
        "    if self.shortest_path != []:\n",
        "      return len(self.shortest_path)\n",
        "    else:\n",
        "      return None  \n",
        "\n",
        "  def find_shortest_path(self):\n",
        "    sp_ = nx.bidirectional_shortest_path(self.G, source=self.starting_pos, target=self.exit_pos)\n",
        "    self.shortest_path = [] \n",
        "    for s, t in zip(sp_, sp_[1:]):     \n",
        "      if  (t[0] - s[0])< 0:\n",
        "        self.shortest_path.append('up')\n",
        "      elif (t[0] - s[0])> 0:\n",
        "        self.shortest_path.append('down')  \n",
        "      elif (t[1] - s[1])> 0:\n",
        "        self.shortest_path.append('right')\n",
        "      elif (t[1] - s[1])< 0: \n",
        "        self.shortest_path.append('left')\n",
        "\n",
        "    return self.shortest_path  \n",
        "\n",
        "    \n"
      ],
      "execution_count": null,
      "outputs": []
    },
    {
      "cell_type": "code",
      "metadata": {
        "id": "5SngogO4LZTi"
      },
      "source": [
        "grid_size = (5,5)\n",
        "starting_pos = (4, 4) # starting point\n",
        "exit_pos = (1, 1) # exit point\n",
        "obstacles_pos = [(3,3), (2,3), (1,3)]\n",
        "\n",
        "\n",
        "spf = ShortestPathFinder(grid_size, starting_pos, exit_pos, obstacles_pos)\n"
      ],
      "execution_count": null,
      "outputs": []
    },
    {
      "cell_type": "code",
      "metadata": {
        "colab": {
          "base_uri": "https://localhost:8080/",
          "height": 353
        },
        "id": "W4sdI4r2Ju03",
        "outputId": "dd3347b6-7d5f-40fd-ecf9-fe57845efca1"
      },
      "source": [
        "#spf.draw_grid()\n",
        "#spf.consider_obstacles()\n",
        "spf.draw_grid()\n",
        "print(spf.find_shortest_path())\n",
        "spf.get_shortest_path_len()"
      ],
      "execution_count": null,
      "outputs": [
        {
          "output_type": "stream",
          "text": [
            "['left', 'left', 'up', 'up', 'up', 'left']\n"
          ],
          "name": "stdout"
        },
        {
          "output_type": "execute_result",
          "data": {
            "text/plain": [
              "6"
            ]
          },
          "metadata": {
            "tags": []
          },
          "execution_count": 131
        },
        {
          "output_type": "display_data",
          "data": {
            "image/png": "[encoded data removed]",
            "text/plain": [
              "<Figure size 288x288 with 1 Axes>"
            ]
          },
          "metadata": {
            "tags": []
          }
        }
      ]
    },
    {
      "cell_type": "code",
      "metadata": {
        "colab": {
          "base_uri": "https://localhost:8080/"
        },
        "id": "pcYGpgBvL4R7",
        "outputId": "4237a66b-b5f5-4a74-f810-5e5709697d2c"
      },
      "source": [
        "ll = [(4, 4), (4, 3), (4, 2), (3, 2), (2, 2), (1, 2), (1, 1)]\n",
        "#['up' if (t[0] - s[0])< 0 elif ,t[1] - s[1]) for s, t in zip(ll, ll[1:])]\n",
        "res = []\n",
        "for s, t in zip(ll, ll[1:]):\n",
        "  if  (t[0] - s[0])< 0:\n",
        "    res.append('up')\n",
        "  elif (t[0] - s[0])> 0:\n",
        "    res.append('down')  \n",
        "  elif (t[1] - s[1])> 0:\n",
        "    res.append('right')\n",
        "  elif (t[1] - s[1])< 0: \n",
        "    res.append('left')\n",
        "\n",
        "res"
      ],
      "execution_count": null,
      "outputs": [
        {
          "output_type": "execute_result",
          "data": {
            "text/plain": [
              "['left', 'left', 'up', 'up', 'up', 'left']"
            ]
          },
          "metadata": {
            "tags": []
          },
          "execution_count": 132
        }
      ]
    },
    {
      "cell_type": "code",
      "metadata": {
        "id": "sw4DIF0LOB-j"
      },
      "source": [
        ""
      ],
      "execution_count": null,
      "outputs": []
    }
  ]
}
